{
 "cells": [
  {
   "cell_type": "code",
   "execution_count": 1,
   "metadata": {},
   "outputs": [],
   "source": [
    "#i want to test energy falloff rates for various resolutions and viscosities\n"
   ]
  },
  {
   "cell_type": "code",
   "execution_count": 2,
   "metadata": {},
   "outputs": [],
   "source": [
    "#conservation or lack thereof were hard to demonstrate here..."
   ]
  },
  {
   "cell_type": "code",
   "execution_count": 3,
   "metadata": {},
   "outputs": [],
   "source": [
    "#def xop2_2d(g, f, a0, a):\n",
    "from tqdm import tqdm\n",
    "from tools.operators_single_overlap import xop_2d, yop_2d, Discrete1DGrid, RHSswe, RK3\n",
    "from tools.plotting import VisualizeGrid, coLocateVelocity, StartPlot, UpdatePlot\n",
    "from tools.plotting import StartPlotEnergy, UpdatePlotEnergy\n",
    "from tools.tests import StabilityCheck, calc_diagnostics\n",
    "import numpy as np\n",
    "from matplotlib import pyplot as plt\n",
    "import time"
   ]
  },
  {
   "cell_type": "markdown",
   "metadata": {},
   "source": [
    "### Soliton Domain\n",
    "-24 <= x <= 24, -8 <= y <= 8 <br>\n",
    "Coriolis: f = y <br>\n",
    "depth: H = 1 <br>\n",
    "gravity: g = 1 <br>\n",
    "tfinal: 40\n",
    "\n",
    "Stable timestep for coarsest resolution is dt = 0.02 (explain)\n",
    "\n",
    "Use symmetry to update vorticity variables?"
   ]
  },
  {
   "cell_type": "markdown",
   "metadata": {},
   "source": [
    "#### First Geometry - 80km resolution"
   ]
  },
  {
   "cell_type": "code",
   "execution_count": 4,
   "metadata": {},
   "outputs": [],
   "source": [
    "xmin,xmax,N = -24, 24, 96*4\n",
    "ymin,ymax,M = -8, 8, 32*4\n",
    "\n",
    "# discretize x-y directions on a C-grid\n",
    "xe,xc,dx = Discrete1DGrid(xmin,xmax,N)\n",
    "ye,yc,dy = Discrete1DGrid(ymin,ymax,M)\n",
    "xp,yp = np.meshgrid(xc,yc) # p-points\n",
    "xu,yu = np.meshgrid(xe,yc) # u-points\n",
    "xv,yv = np.meshgrid(xc,ye) # v-points\n",
    "xz,yz = np.meshgrid(xe,ye) # z-points (vorticity)\n",
    "dxs = np.array([dx,dy])    # grid size\n",
    "# VisualizeGrid(xu,yu,xv,yv,xp,yp,xz,yz) # visualize grid optional\n",
    "\n",
    "gravity = 1\n",
    "depth = np.ones([M,N])\n",
    "coriolis = yz.copy()"
   ]
  },
  {
   "cell_type": "code",
   "execution_count": 5,
   "metadata": {},
   "outputs": [],
   "source": [
    "def initialize_soliton(xu,yu,xv,yv,xp,yp,xz,yz,dxs,B=0.395):\n",
    "    phiu = 0.771 * B**2 * ( 1/np.cosh(B*xu)**2) \n",
    "    phiv = 0.771 * B**2 * ( 1/np.cosh(B*xv)**2) \n",
    "    phip = 0.771 * B**2 * ( 1/np.cosh(B*xp)**2)\n",
    "    \n",
    "    \n",
    "#     dphi_dxu = -2 * phiu * B * np.tanh(B*xu) #dont need maybe\n",
    "    dphi_dxv = -2 * phiv * B * np.tanh(B*xv)\n",
    "    \n",
    "    \n",
    "    u = (6*yu**2 - 9)/4 * phiu * np.exp(-(yu**2/2))\n",
    "    v = 2*yv*(dphi_dxv)*np.exp(-(yv**2/2))\n",
    "    p = (6*yp**2 + 3)/4 * phip * np.exp(-(yp**2/2))\n",
    "    \n",
    "    return u,v,p\n",
    "    "
   ]
  },
  {
   "cell_type": "code",
   "execution_count": 6,
   "metadata": {},
   "outputs": [
    {
     "name": "stdout",
     "output_type": "stream",
     "text": [
      "Using matplotlib backend: <object object at 0x0000022BF09AA540>\n"
     ]
    }
   ],
   "source": [
    "%matplotlib"
   ]
  },
  {
   "cell_type": "code",
   "execution_count": 7,
   "metadata": {},
   "outputs": [],
   "source": [
    "plt.close('all')"
   ]
  },
  {
   "cell_type": "markdown",
   "metadata": {},
   "source": [
    "### initial conditions\n"
   ]
  },
  {
   "cell_type": "code",
   "execution_count": 8,
   "metadata": {},
   "outputs": [],
   "source": [
    "u,v,p = initialize_soliton(xu,yu,xv,yv,xp,yp,xz,yz,dxs,B=0.395)\n",
    "# #wrap edges - u-points have two overlaps\n",
    "# u[:, 0] =  u[:, -2]  # Wrap west to east\n",
    "# u[:, -1] = u[:, 1]  # Wrap east to west\n",
    "\n",
    "# # v, p-points have one overlap\n",
    "# v[:, -1] = v[:, 0]  # Wrap east to west\n",
    "# p[:, -1] = p[:, 0]  # Wrap east to west"
   ]
  },
  {
   "cell_type": "code",
   "execution_count": 9,
   "metadata": {},
   "outputs": [
    {
     "name": "stdout",
     "output_type": "stream",
     "text": [
      "max. Courant number: 0.4\n",
      "Stable gravity wave time step:\n"
     ]
    }
   ],
   "source": [
    "periodic = True\n",
    "\n",
    "alin = 1 # toggles between linear (0), nonlinear (1) PDEs\n",
    "visc = .001\n",
    "# tolerance = 10**-5\n",
    "cell_area = dx*dy\n",
    "ntimesteps = 6000\n",
    "isnap = 10       # frequency of visualization\n",
    "finaltime = 300\n",
    "dt = finaltime/ntimesteps\n",
    "StabilityCheck(gravity,depth,dt,dx)"
   ]
  },
  {
   "cell_type": "code",
   "execution_count": 10,
   "metadata": {},
   "outputs": [],
   "source": [
    "#reset indices for diagnostic calculations depending on BCs\n",
    "if periodic:\n",
    "    ind1u,ind2u = 1,len(u[0,])\n",
    "    ind1v,ind2v = 1,len(v[0,])\n",
    "    ind1p,ind2p = 1,len(p[0,])\n",
    "    ind1z,ind2z = 1,len(coriolis[0,])\n",
    "else:\n",
    "    ind1u, ind2u = 0, len(u[0,])\n",
    "    ind1v ,ind2v = 0, len(v[0,])\n",
    "    ind1p ,ind2p = 0, len(p[0,])\n",
    "    ind1z ,ind2z = 0, len(coriolis[0,])"
   ]
  },
  {
   "cell_type": "code",
   "execution_count": 11,
   "metadata": {},
   "outputs": [],
   "source": [
    "initial_energy, initial_enstrophy, initial_mass = calc_diagnostics(u[:,ind1u:ind2u],v[:,ind1v:ind2v],p[:,ind1p:ind2p],dxs,depth[:,ind1p:ind2p],gravity,coriolis[:,ind1z:ind2z],alin)"
   ]
  },
  {
   "cell_type": "markdown",
   "metadata": {},
   "source": [
    "### ADJUST P LEVS FOR PRESSURE CONTOURS\n"
   ]
  },
  {
   "cell_type": "code",
   "execution_count": 12,
   "metadata": {},
   "outputs": [],
   "source": [
    "#set pmin manually since it drops slightly from beginning\n",
    "plevs=np.linspace(-0.25,p.max(),40)\n",
    "xas,yas=8,8"
   ]
  },
  {
   "cell_type": "code",
   "execution_count": 13,
   "metadata": {},
   "outputs": [],
   "source": [
    "fig,ax,pcont,arrows = StartPlot(u,v,p,xe,xc,ye,yc,plevs,XarrowStep=xas,YarrowStep=yas,arrow_scale=4 ,colormap='viridis')\n",
    "plt.show()"
   ]
  },
  {
   "cell_type": "code",
   "execution_count": 14,
   "metadata": {},
   "outputs": [],
   "source": [
    "total_system_energy = [initial_energy]\n",
    "total_system_enstrophy = [initial_enstrophy]\n",
    "total_system_mass = [initial_mass]\n",
    "times = [0.0]\n"
   ]
  },
  {
   "cell_type": "code",
   "execution_count": 15,
   "metadata": {
    "scrolled": true
   },
   "outputs": [
    {
     "name": "stderr",
     "output_type": "stream",
     "text": [
      " 31%|███       | 1869/6000 [00:43<01:35, 43.23it/s]\n"
     ]
    },
    {
     "ename": "KeyboardInterrupt",
     "evalue": "",
     "output_type": "error",
     "traceback": [
      "\u001b[1;31m---------------------------------------------------------------------------\u001b[0m",
      "\u001b[1;31mKeyboardInterrupt\u001b[0m                         Traceback (most recent call last)",
      "\u001b[1;32m~\\AppData\\Local\\Temp\\ipykernel_15712\\2440024932.py\u001b[0m in \u001b[0;36m<module>\u001b[1;34m\u001b[0m\n\u001b[0;32m      4\u001b[0m     \u001b[1;32mif\u001b[0m \u001b[1;33m(\u001b[0m\u001b[0mit\u001b[0m\u001b[1;33m+\u001b[0m\u001b[1;36m1\u001b[0m\u001b[1;33m)\u001b[0m\u001b[1;33m%\u001b[0m\u001b[0misnap\u001b[0m\u001b[1;33m==\u001b[0m\u001b[1;36m0\u001b[0m\u001b[1;33m:\u001b[0m\u001b[1;33m\u001b[0m\u001b[1;33m\u001b[0m\u001b[0m\n\u001b[0;32m      5\u001b[0m         \u001b[0mtime\u001b[0m\u001b[1;33m.\u001b[0m\u001b[0msleep\u001b[0m\u001b[1;33m(\u001b[0m\u001b[1;36m0.01\u001b[0m\u001b[1;33m)\u001b[0m\u001b[1;33m\u001b[0m\u001b[1;33m\u001b[0m\u001b[0m\n\u001b[1;32m----> 6\u001b[1;33m         \u001b[0mpcont\u001b[0m \u001b[1;33m=\u001b[0m \u001b[0mUpdatePlot\u001b[0m\u001b[1;33m(\u001b[0m\u001b[0mu\u001b[0m\u001b[1;33m,\u001b[0m\u001b[0mv\u001b[0m\u001b[1;33m,\u001b[0m\u001b[0mp\u001b[0m\u001b[1;33m,\u001b[0m\u001b[0mxe\u001b[0m\u001b[1;33m,\u001b[0m\u001b[0mxc\u001b[0m\u001b[1;33m,\u001b[0m\u001b[0mye\u001b[0m\u001b[1;33m,\u001b[0m\u001b[0myc\u001b[0m\u001b[1;33m,\u001b[0m\u001b[0max\u001b[0m\u001b[1;33m,\u001b[0m\u001b[0mpcont\u001b[0m\u001b[1;33m,\u001b[0m\u001b[0mplevs\u001b[0m\u001b[1;33m,\u001b[0m\u001b[0mtimeCurrent\u001b[0m\u001b[1;33m+\u001b[0m\u001b[0mdt\u001b[0m\u001b[1;33m,\u001b[0m\u001b[0marrows\u001b[0m\u001b[1;33m,\u001b[0m\u001b[0mXarrowStep\u001b[0m\u001b[1;33m=\u001b[0m\u001b[0mxas\u001b[0m\u001b[1;33m,\u001b[0m\u001b[0mYarrowStep\u001b[0m\u001b[1;33m=\u001b[0m\u001b[0myas\u001b[0m\u001b[1;33m,\u001b[0m\u001b[0mcolormap\u001b[0m\u001b[1;33m=\u001b[0m\u001b[1;34m'viridis'\u001b[0m\u001b[1;33m)\u001b[0m \u001b[1;31m# update numerical plot\u001b[0m\u001b[1;33m\u001b[0m\u001b[1;33m\u001b[0m\u001b[0m\n\u001b[0m\u001b[0;32m      7\u001b[0m         \u001b[0mtimes\u001b[0m\u001b[1;33m.\u001b[0m\u001b[0mappend\u001b[0m\u001b[1;33m(\u001b[0m\u001b[0mtimeCurrent\u001b[0m\u001b[1;33m)\u001b[0m\u001b[1;33m\u001b[0m\u001b[1;33m\u001b[0m\u001b[0m\n\u001b[0;32m      8\u001b[0m         \u001b[0meg\u001b[0m\u001b[1;33m,\u001b[0m \u001b[0mes\u001b[0m\u001b[1;33m,\u001b[0m \u001b[0mms\u001b[0m \u001b[1;33m=\u001b[0m \u001b[0mcalc_diagnostics\u001b[0m\u001b[1;33m(\u001b[0m\u001b[0mu\u001b[0m\u001b[1;33m[\u001b[0m\u001b[1;33m:\u001b[0m\u001b[1;33m,\u001b[0m\u001b[0mind1u\u001b[0m\u001b[1;33m:\u001b[0m\u001b[0mind2u\u001b[0m\u001b[1;33m]\u001b[0m\u001b[1;33m,\u001b[0m\u001b[0mv\u001b[0m\u001b[1;33m[\u001b[0m\u001b[1;33m:\u001b[0m\u001b[1;33m,\u001b[0m\u001b[0mind1v\u001b[0m\u001b[1;33m:\u001b[0m\u001b[0mind2v\u001b[0m\u001b[1;33m]\u001b[0m\u001b[1;33m,\u001b[0m\u001b[0mp\u001b[0m\u001b[1;33m[\u001b[0m\u001b[1;33m:\u001b[0m\u001b[1;33m,\u001b[0m\u001b[0mind1p\u001b[0m\u001b[1;33m:\u001b[0m\u001b[0mind2p\u001b[0m\u001b[1;33m]\u001b[0m\u001b[1;33m,\u001b[0m\u001b[0mdxs\u001b[0m\u001b[1;33m,\u001b[0m\u001b[0mdepth\u001b[0m\u001b[1;33m[\u001b[0m\u001b[1;33m:\u001b[0m\u001b[1;33m,\u001b[0m\u001b[0mind1p\u001b[0m\u001b[1;33m:\u001b[0m\u001b[0mind2p\u001b[0m\u001b[1;33m]\u001b[0m\u001b[1;33m,\u001b[0m\u001b[0mgravity\u001b[0m\u001b[1;33m,\u001b[0m\u001b[0mcoriolis\u001b[0m\u001b[1;33m[\u001b[0m\u001b[1;33m:\u001b[0m\u001b[1;33m,\u001b[0m\u001b[0mind1z\u001b[0m\u001b[1;33m:\u001b[0m\u001b[0mind2z\u001b[0m\u001b[1;33m]\u001b[0m\u001b[1;33m,\u001b[0m\u001b[0malin\u001b[0m\u001b[1;33m)\u001b[0m\u001b[1;33m\u001b[0m\u001b[1;33m\u001b[0m\u001b[0m\n",
      "\u001b[1;32mc:\\Users\\mdona\\OneDrive\\Miami Stuff\\fluid_code_2\\tools\\plotting.py\u001b[0m in \u001b[0;36mUpdatePlot\u001b[1;34m(u, v, p, xe, xc, ye, yc, ax, pcont, plevs, timec, arrows, XarrowStep, YarrowStep, colormap)\u001b[0m\n\u001b[0;32m     84\u001b[0m     arrows.set_UVC(uc[::XarrowStep,::YarrowStep],\n\u001b[0;32m     85\u001b[0m                    vc[::XarrowStep,::YarrowStep])             # updates arrows\n\u001b[1;32m---> 86\u001b[1;33m     \u001b[0mplt\u001b[0m\u001b[1;33m.\u001b[0m\u001b[0mpause\u001b[0m\u001b[1;33m(\u001b[0m\u001b[1;36m1.e-2\u001b[0m\u001b[1;33m)\u001b[0m\u001b[1;33m\u001b[0m\u001b[1;33m\u001b[0m\u001b[0m\n\u001b[0m\u001b[0;32m     87\u001b[0m     \u001b[1;31m# linep.set_ydata(p[0,:])\u001b[0m\u001b[1;33m\u001b[0m\u001b[1;33m\u001b[0m\u001b[0m\n\u001b[0;32m     88\u001b[0m     \u001b[1;31m# lineu.set_ydata(u[0,:])\u001b[0m\u001b[1;33m\u001b[0m\u001b[1;33m\u001b[0m\u001b[0m\n",
      "\u001b[1;32mc:\\Users\\mdona\\anaconda3\\lib\\site-packages\\matplotlib\\pyplot.py\u001b[0m in \u001b[0;36mpause\u001b[1;34m(interval)\u001b[0m\n\u001b[0;32m    756\u001b[0m         \u001b[0mcanvas\u001b[0m\u001b[1;33m.\u001b[0m\u001b[0mstart_event_loop\u001b[0m\u001b[1;33m(\u001b[0m\u001b[0minterval\u001b[0m\u001b[1;33m)\u001b[0m\u001b[1;33m\u001b[0m\u001b[1;33m\u001b[0m\u001b[0m\n\u001b[0;32m    757\u001b[0m     \u001b[1;32melse\u001b[0m\u001b[1;33m:\u001b[0m\u001b[1;33m\u001b[0m\u001b[1;33m\u001b[0m\u001b[0m\n\u001b[1;32m--> 758\u001b[1;33m         \u001b[0mtime\u001b[0m\u001b[1;33m.\u001b[0m\u001b[0msleep\u001b[0m\u001b[1;33m(\u001b[0m\u001b[0minterval\u001b[0m\u001b[1;33m)\u001b[0m\u001b[1;33m\u001b[0m\u001b[1;33m\u001b[0m\u001b[0m\n\u001b[0m\u001b[0;32m    759\u001b[0m \u001b[1;33m\u001b[0m\u001b[0m\n\u001b[0;32m    760\u001b[0m \u001b[1;33m\u001b[0m\u001b[0m\n",
      "\u001b[1;31mKeyboardInterrupt\u001b[0m: "
     ]
    }
   ],
   "source": [
    "for it in tqdm(range(ntimesteps)):\n",
    "    timeCurrent = it*dt\n",
    "    RK3(u,v,p,depth, coriolis, gravity, dxs, dt, timeCurrent, visc,bdc=0,tau_x=0,tau_y=0, alin=1,periodic=periodic)\n",
    "    if (it+1)%isnap==0:\n",
    "        time.sleep(0.01)\n",
    "        pcont = UpdatePlot(u,v,p,xe,xc,ye,yc,ax,pcont,plevs,timeCurrent+dt,arrows,XarrowStep=xas,YarrowStep=yas,colormap='viridis') # update numerical plot\n",
    "        times.append(timeCurrent)\n",
    "        eg, es, ms = calc_diagnostics(u[:,ind1u:ind2u],v[:,ind1v:ind2v],p[:,ind1p:ind2p],dxs,depth[:,ind1p:ind2p],gravity,coriolis[:,ind1z:ind2z],alin)\n",
    "        total_system_energy.append(eg)\n",
    "        total_system_enstrophy.append(es)\n",
    "        total_system_mass.append(ms)"
   ]
  },
  {
   "cell_type": "code",
   "execution_count": 16,
   "metadata": {},
   "outputs": [],
   "source": [
    "plt.close('all')"
   ]
  },
  {
   "cell_type": "code",
   "execution_count": 17,
   "metadata": {},
   "outputs": [],
   "source": [
    "%matplotlib inline"
   ]
  },
  {
   "cell_type": "code",
   "execution_count": 18,
   "metadata": {},
   "outputs": [],
   "source": [
    "mass_plot = np.array(total_system_mass)/initial_mass\n",
    "energy_plot = np.array(total_system_energy)/initial_energy\n",
    "enstrophy_plot = (np.array(total_system_enstrophy) + 1.)/(initial_enstrophy+1.)"
   ]
  },
  {
   "cell_type": "code",
   "execution_count": 19,
   "metadata": {},
   "outputs": [
    {
     "data": {
      "image/png": "[encoded data removed]",
      "text/plain": [
       "<Figure size 640x480 with 1 Axes>"
      ]
     },
     "metadata": {},
     "output_type": "display_data"
    }
   ],
   "source": [
    "plt.plot(times,mass_plot, label='Mass')\n",
    "# plt.plot(times,energy_plot, label='Energy')\n",
    "plt.plot(times,enstrophy_plot, label='Enstrophy')\n",
    "plt.legend()\n",
    "plt.show()"
   ]
  },
  {
   "cell_type": "code",
   "execution_count": 20,
   "metadata": {},
   "outputs": [
    {
     "data": {
      "text/plain": [
       "[49243.85375637837,\n",
       " 49243.853756361656,\n",
       " 49243.85375634648,\n",
       " 49243.85375633269,\n",
       " 49243.85375632017,\n",
       " 49243.853756308796,\n",
       " 49243.85375629846,\n",
       " 49243.85375628907,\n",
       " 49243.85375628053,\n",
       " 49243.85375627278,\n",
       " 49243.85375626574,\n",
       " 49243.85375625935,\n",
       " 49243.85375625353,\n",
       " 49243.85375624825,\n",
       " 49243.85375624346,\n",
       " 49243.85375623911,\n",
       " 49243.85375623514,\n",
       " 49243.85375623155,\n",
       " 49243.85375622828,\n",
       " 49243.853756225304,\n",
       " 49243.85375622261,\n",
       " 49243.85375622017,\n",
       " 49243.85375621794,\n",
       " 49243.85375621591,\n",
       " 49243.853756214085,\n",
       " 49243.85375621241,\n",
       " 49243.853756210905,\n",
       " 49243.85375620952,\n",
       " 49243.85375620828,\n",
       " 49243.853756207136,\n",
       " 49243.8537562061,\n",
       " 49243.85375620518,\n",
       " 49243.85375620432,\n",
       " 49243.85375620355,\n",
       " 49243.85375620284,\n",
       " 49243.853756202196,\n",
       " 49243.85375620162,\n",
       " 49243.85375620109,\n",
       " 49243.85375620062,\n",
       " 49243.85375620017,\n",
       " 49243.85375619978,\n",
       " 49243.853756199416,\n",
       " 49243.853756199096,\n",
       " 49243.85375619879,\n",
       " 49243.85375619854,\n",
       " 49243.85375619828,\n",
       " 49243.853756198056,\n",
       " 49243.85375619785,\n",
       " 49243.85375619767,\n",
       " 49243.8537561975,\n",
       " 49243.85375619736,\n",
       " 49243.85375619721,\n",
       " 49243.85375619708,\n",
       " 49243.85375619697,\n",
       " 49243.85375619687,\n",
       " 49243.85375619678,\n",
       " 49243.85375619669,\n",
       " 49243.85375619661,\n",
       " 49243.853756196535,\n",
       " 49243.85375619648,\n",
       " 49243.85375619642,\n",
       " 49243.85375619637,\n",
       " 49243.853756196324,\n",
       " 49243.853756196266,\n",
       " 49243.85375619624,\n",
       " 49243.85375619621,\n",
       " 49243.85375619617,\n",
       " 49243.853756196135,\n",
       " 49243.85375619611,\n",
       " 49243.853756196084,\n",
       " 49243.85375619607,\n",
       " 49243.85375619604,\n",
       " 49243.853756196026,\n",
       " 49243.85375619601,\n",
       " 49243.853756196,\n",
       " 49243.85375619598,\n",
       " 49243.85375619597,\n",
       " 49243.85375619596,\n",
       " 49243.853756195946,\n",
       " 49243.85375619594,\n",
       " 49243.853756195924,\n",
       " 49243.853756195924,\n",
       " 49243.85375619591,\n",
       " 49243.85375619591,\n",
       " 49243.8537561959,\n",
       " 49243.8537561959,\n",
       " 49243.853756195895,\n",
       " 49243.85375619589,\n",
       " 49243.85375619587,\n",
       " 49243.85375619588,\n",
       " 49243.85375619588,\n",
       " 49243.85375619587,\n",
       " 49243.853756195866,\n",
       " 49243.853756195866,\n",
       " 49243.853756195866,\n",
       " 49243.853756195866,\n",
       " 49243.85375619585,\n",
       " 49243.85375619586,\n",
       " 49243.85375619585,\n",
       " 49243.85375619586,\n",
       " 49243.85375619585,\n",
       " 49243.85375619586,\n",
       " 49243.85375619586,\n",
       " 49243.85375619585,\n",
       " 49243.853756195844,\n",
       " 49243.853756195844,\n",
       " 49243.85375619585,\n",
       " 49243.85375619585,\n",
       " 49243.85375619585,\n",
       " 49243.853756195844,\n",
       " 49243.85375619584,\n",
       " 49243.853756195844,\n",
       " 49243.85375619584,\n",
       " 49243.853756195844,\n",
       " 49243.853756195844,\n",
       " 49243.853756195844,\n",
       " 49243.85375619584,\n",
       " 49243.85375619584,\n",
       " 49243.85375619584,\n",
       " 49243.853756195844,\n",
       " 49243.853756195844,\n",
       " 49243.85375619584,\n",
       " 49243.85375619584,\n",
       " 49243.85375619584,\n",
       " 49243.853756195844,\n",
       " 49243.85375619584,\n",
       " 49243.85375619584,\n",
       " 49243.85375619584,\n",
       " 49243.85375619584,\n",
       " 49243.85375619584,\n",
       " 49243.85375619584,\n",
       " 49243.85375619584,\n",
       " 49243.85375619584,\n",
       " 49243.85375619584,\n",
       " 49243.85375619584,\n",
       " 49243.853756195844,\n",
       " 49243.85375619583,\n",
       " 49243.85375619584,\n",
       " 49243.85375619584,\n",
       " 49243.85375619583,\n",
       " 49243.85375619584,\n",
       " 49243.853756195844,\n",
       " 49243.85375619584,\n",
       " 49243.853756195844,\n",
       " 49243.85375619584,\n",
       " 49243.853756195844,\n",
       " 49243.85375619584,\n",
       " 49243.85375619584,\n",
       " 49243.85375619584,\n",
       " 49243.85375619584,\n",
       " 49243.85375619584,\n",
       " 49243.85375619584,\n",
       " 49243.85375619584,\n",
       " 49243.85375619584,\n",
       " 49243.85375619584,\n",
       " 49243.85375619584,\n",
       " 49243.853756195844,\n",
       " 49243.85375619584,\n",
       " 49243.85375619584,\n",
       " 49243.85375619584,\n",
       " 49243.853756195844,\n",
       " 49243.85375619584,\n",
       " 49243.85375619584,\n",
       " 49243.853756195844,\n",
       " 49243.85375619584,\n",
       " 49243.85375619584,\n",
       " 49243.85375619584,\n",
       " 49243.853756195844,\n",
       " 49243.85375619584,\n",
       " 49243.85375619584,\n",
       " 49243.85375619584,\n",
       " 49243.85375619584,\n",
       " 49243.85375619583,\n",
       " 49243.85375619584,\n",
       " 49243.85375619584,\n",
       " 49243.85375619583,\n",
       " 49243.85375619584,\n",
       " 49243.85375619584,\n",
       " 49243.85375619584,\n",
       " 49243.85375619584,\n",
       " 49243.85375619583,\n",
       " 49243.85375619583,\n",
       " 49243.85375619584,\n",
       " 49243.85375619584,\n",
       " 49243.85375619584,\n",
       " 49243.85375619583,\n",
       " 49243.853756195844]"
      ]
     },
     "execution_count": 20,
     "metadata": {},
     "output_type": "execute_result"
    }
   ],
   "source": [
    "total_system_mass"
   ]
  },
  {
   "cell_type": "code",
   "execution_count": null,
   "metadata": {},
   "outputs": [],
   "source": []
  },
  {
   "cell_type": "code",
   "execution_count": null,
   "metadata": {},
   "outputs": [],
   "source": []
  },
  {
   "cell_type": "code",
   "execution_count": null,
   "metadata": {},
   "outputs": [],
   "source": []
  },
  {
   "cell_type": "code",
   "execution_count": null,
   "metadata": {},
   "outputs": [],
   "source": []
  },
  {
   "cell_type": "code",
   "execution_count": null,
   "metadata": {},
   "outputs": [],
   "source": []
  },
  {
   "cell_type": "code",
   "execution_count": null,
   "metadata": {},
   "outputs": [],
   "source": []
  },
  {
   "cell_type": "code",
   "execution_count": null,
   "metadata": {},
   "outputs": [],
   "source": []
  },
  {
   "cell_type": "code",
   "execution_count": null,
   "metadata": {},
   "outputs": [],
   "source": []
  },
  {
   "cell_type": "markdown",
   "metadata": {},
   "source": [
    "### Does energy \"converge\" faster with higher viscosity???????"
   ]
  },
  {
   "cell_type": "code",
   "execution_count": null,
   "metadata": {},
   "outputs": [],
   "source": [
    "# define geometry of domain - 3,600km x, 2,800 km y, with 20km resolution\n",
    "xmin,xmax,N = 0.0,3600000.0, 45#90 #180\n",
    "ymin,ymax,M = 0.0, 2800000.0,35  #70 #140\n",
    "\n",
    "# discretize x-y directions on a C-grid\n",
    "xe,xc,dx = Discrete1DGrid(xmin,xmax,N)\n",
    "ye,yc,dy = Discrete1DGrid(ymin,ymax,M)\n",
    "xp,yp = np.meshgrid(xc,yc) # p-points\n",
    "xu,yu = np.meshgrid(xe,yc) # u-points\n",
    "xv,yv = np.meshgrid(xc,ye) # v-points\n",
    "xz,yz = np.meshgrid(xe,ye) # z-points (vorticity)\n",
    "dxs = np.array([dx,dy])    # grid size\n",
    "# VisualizeGrid(xu,yu,xv,yv,xp,yp,xz,yz) # visualize grid optional\n",
    "\n",
    "gravity =2.2025*10**(-2)\n",
    "depth = 1000*np.ones([M,N])\n",
    "coriolis = np.zeros_like(xz) # coriolis parameter\n",
    "coriolis+=0.00009 + yz * 1.8*10**-11 #mid-latitude B-plane\n",
    "\n",
    "u,v,p = initialize_vortex(xu,xv,xp,yp,xz,yz,dxs[0],dxs[1],\n",
    "                          gravity,\n",
    "                         coriolis,\n",
    "                         a=100,\n",
    "                         L=200000,\n",
    "                         x_center=1.8 * 10 ** 6,\n",
    "                         y_center= 1.4 * 10 ** 6)\n",
    "\n",
    "u1,v1,p1=initialize_vortex(xu,xv,xp,yp,xz,yz,dxs[0],dxs[1],\n",
    "                          gravity,\n",
    "                         coriolis,\n",
    "                         a=50,\n",
    "                         L=100000,\n",
    "                         x_center=1.4 * 10 ** 6,\n",
    "                         y_center=1.4 * 10 ** 6)\n",
    "\n",
    "u += u1\n",
    "v += v1\n",
    "p += p1"
   ]
  },
  {
   "cell_type": "code",
   "execution_count": null,
   "metadata": {},
   "outputs": [],
   "source": [
    "plevs = np.arange(-200, 200, 10)\n",
    "fig,ax,pcont,arrows = StartPlot(u,v,p,xe,xc,ye,yc,plevs,XarrowStep=4,YarrowStep=4,arrow_scale=2)\n",
    "plt.show()\n",
    "total_system_energy = []\n",
    "total_system_enstrophy = []\n",
    "lapl_integral = []\n",
    "times = [0.0]"
   ]
  },
  {
   "cell_type": "code",
   "execution_count": null,
   "metadata": {},
   "outputs": [],
   "source": [
    "alin = 1 # toggles between linear (0), nonlinear (1) PDEs\n",
    "visc = .99\n",
    "tolerance = 10**-4\n",
    "cell_area = dx*dy\n",
    "ntimesteps = 25600*2\n",
    "isnap = 20       # frequency of visualization\n",
    "finaltime = 256000000\n",
    "dt = finaltime/ntimesteps\n",
    "StabilityCheck(gravity,depth,dt,dx)\n",
    "\n",
    "total_system_energy.append(calculate_energy(u,v,p,depth,gravity))\n",
    "total_system_enstrophy.append(calculate_enstrophy(u,v,p,dxs,depth,coriolis,alin))\n",
    "\n",
    "fig2, ax2, pline,pline2 = StartPlotEnergy() \n",
    "# fig2,ax2,lline = StartPlotULaplace(u,dxs)\n",
    "\n",
    "for it in tqdm(range(ntimesteps)):\n",
    "    timeCurrent = it*dt\n",
    "    RK3(u,v,p,depth, coriolis, gravity, dxs, dt, timeCurrent, visc, alin)\n",
    "\n",
    "\n",
    "    \n",
    "#         vort_grid[1:-1,1:-1] = x_vort - y_vort\n",
    "#         pcont = UpdatePlotVort(vort_grid,xe,ye,ax,pcont,plevs,timeCurrent) # update numerical plot\n",
    "        \n",
    "    #p plot\n",
    "    if (it+1)%isnap==0:\n",
    "        pcont = UpdatePlot(u,v,p,xe,xc,ye,yc,ax,pcont,plevs,timeCurrent+dt,arrows,XarrowStep=4,YarrowStep=4) # update numerical plot\n",
    "#         lline, TL, LI = UpdatePlotULaplace(ax2,lline,u,dxs)\n",
    "#         lapl_integral.append(LI)\n",
    "\n",
    "        times.append(timeCurrent)\n",
    "        total_system_energy.append(calculate_energy(u,v,p,depth,gravity))\n",
    "        total_system_enstrophy.append(calculate_enstrophy(u,v,p,dxs,depth,coriolis,alin))\n",
    "\n",
    "        \n",
    "        time_array = np.array(times)\n",
    "        energy_array = np.array(total_system_energy)\n",
    "        plotting_energy = energy_array/energy_array[0]\n",
    "        \n",
    "        if np.abs(plotting_energy[-1] - plotting_energy[-2]) < tolerance:\n",
    "            print(\"Timesteps to reach Stable Energy: {}\".format(it))\n",
    "            print('Time elapsed: {}'.format(timeCurrent))\n",
    "            break\n",
    "        \n",
    "        enstrophy_array = np.array(total_system_enstrophy)\n",
    "        plotting_array_2 = enstrophy_array/enstrophy_array[0]\n",
    "        \n",
    "        pline, pline2 = UpdatePlotEnergy(ax2,pline,pline2,time_array,plotting_energy,plotting_array_2,timeCurrent)"
   ]
  },
  {
   "cell_type": "code",
   "execution_count": null,
   "metadata": {},
   "outputs": [],
   "source": [
    "#viscosity not seeming to make a difference here..."
   ]
  },
  {
   "cell_type": "code",
   "execution_count": null,
   "metadata": {},
   "outputs": [],
   "source": []
  },
  {
   "cell_type": "code",
   "execution_count": null,
   "metadata": {},
   "outputs": [],
   "source": []
  },
  {
   "cell_type": "code",
   "execution_count": null,
   "metadata": {},
   "outputs": [],
   "source": []
  },
  {
   "cell_type": "code",
   "execution_count": null,
   "metadata": {},
   "outputs": [],
   "source": []
  },
  {
   "cell_type": "code",
   "execution_count": null,
   "metadata": {},
   "outputs": [],
   "source": []
  },
  {
   "cell_type": "code",
   "execution_count": null,
   "metadata": {},
   "outputs": [],
   "source": []
  },
  {
   "cell_type": "markdown",
   "metadata": {},
   "source": [
    "#### Second Geometry - 40km resolution"
   ]
  },
  {
   "cell_type": "code",
   "execution_count": null,
   "metadata": {},
   "outputs": [],
   "source": [
    "# define geometry of domain - 3,600km x, 2,800 km y, with 20km resolution\n",
    "xmin,xmax,N = 0.0,3600000.0, 90 #180\n",
    "ymin,ymax,M = 0.0, 2800000.0, 70 #140\n",
    "\n",
    "# discretize x-y directions on a C-grid\n",
    "xe,xc,dx = Discrete1DGrid(xmin,xmax,N)\n",
    "ye,yc,dy = Discrete1DGrid(ymin,ymax,M)\n",
    "xp,yp = np.meshgrid(xc,yc) # p-points\n",
    "xu,yu = np.meshgrid(xe,yc) # u-points\n",
    "xv,yv = np.meshgrid(xc,ye) # v-points\n",
    "xz,yz = np.meshgrid(xe,ye) # z-points (vorticity)\n",
    "dxs = np.array([dx,dy])    # grid size\n",
    "# VisualizeGrid(xu,yu,xv,yv,xp,yp,xz,yz) # visualize grid optional\n",
    "\n",
    "gravity =2.2025*10**(-2)\n",
    "depth = 1000*np.ones([M,N])\n",
    "coriolis = np.zeros_like(xz) # coriolis parameter\n",
    "coriolis+=0.00009 + yz * 1.8*10**-11 #mid-latitude B-plane"
   ]
  },
  {
   "cell_type": "code",
   "execution_count": null,
   "metadata": {},
   "outputs": [],
   "source": [
    "u,v,p = initialize_vortex(xu,xv,xp,yp,xz,yz,dxs[0],dxs[1],\n",
    "                          gravity,\n",
    "                         coriolis,\n",
    "                         a=100,\n",
    "                         L=200000,\n",
    "                         x_center=1.8 * 10 ** 6,\n",
    "                         y_center= 1.4 * 10 ** 6)\n",
    "\n",
    "u1,v1,p1=initialize_vortex(xu,xv,xp,yp,xz,yz,dxs[0],dxs[1],\n",
    "                          gravity,\n",
    "                         coriolis,\n",
    "                         a=50,\n",
    "                         L=100000,\n",
    "                         x_center=1.4 * 10 ** 6,\n",
    "                         y_center=1.4 * 10 ** 6)\n",
    "\n",
    "u += u1\n",
    "v += v1\n",
    "p += p1"
   ]
  },
  {
   "cell_type": "code",
   "execution_count": null,
   "metadata": {},
   "outputs": [],
   "source": [
    "plevs = np.arange(-200, 200, 10)\n",
    "fig,ax,pcont,arrows = StartPlot(u,v,p,xe,xc,ye,yc,plevs,XarrowStep=4,YarrowStep=4,arrow_scale=2)\n",
    "# plt.show()"
   ]
  },
  {
   "cell_type": "code",
   "execution_count": null,
   "metadata": {},
   "outputs": [],
   "source": [
    "total_system_energy = []\n",
    "total_system_enstrophy = []\n",
    "lapl_integral = []\n",
    "times = [0.0]\n"
   ]
  },
  {
   "cell_type": "code",
   "execution_count": null,
   "metadata": {},
   "outputs": [],
   "source": [
    "alin = 1 # toggles between linear (0), nonlinear (1) PDEs\n",
    "visc = .01\n",
    "tolerance = 10**-5\n",
    "cell_area = dx*dy\n",
    "ntimesteps = 256000\n",
    "isnap = 20       # frequency of visualization\n",
    "finaltime = 256000000\n",
    "dt = finaltime/ntimesteps\n",
    "StabilityCheck(gravity,depth,dt,dx)\n",
    "\n",
    "total_system_energy.append(calculate_energy(u,v,p,depth,gravity))\n",
    "total_system_enstrophy.append(calculate_enstrophy(u,v,p,dxs,depth,coriolis,alin))\n",
    "\n",
    "fig2, ax2, pline,pline2 = StartPlotEnergy() \n",
    "# fig2,ax2,lline = StartPlotULaplace(u,dxs)\n",
    "\n",
    "for it in tqdm(range(ntimesteps)):\n",
    "    timeCurrent = it*dt\n",
    "    RK3(u,v,p,depth, coriolis, gravity, dxs, dt, timeCurrent, visc, alin)\n",
    "\n",
    "\n",
    "    \n",
    "#         vort_grid[1:-1,1:-1] = x_vort - y_vort\n",
    "#         pcont = UpdatePlotVort(vort_grid,xe,ye,ax,pcont,plevs,timeCurrent) # update numerical plot\n",
    "        \n",
    "    #p plot\n",
    "    if (it+1)%isnap==0:\n",
    "        pcont = UpdatePlot(u,v,p,xe,xc,ye,yc,ax,pcont,plevs,timeCurrent+dt,arrows,XarrowStep=4,YarrowStep=4) # update numerical plot\n",
    "#         lline, TL, LI = UpdatePlotULaplace(ax2,lline,u,dxs)\n",
    "#         lapl_integral.append(LI)\n",
    "\n",
    "        times.append(timeCurrent)\n",
    "        total_system_energy.append(calculate_energy(u,v,p,depth,gravity))\n",
    "        total_system_enstrophy.append(calculate_enstrophy(u,v,p,dxs,depth,coriolis,alin))\n",
    "\n",
    "        \n",
    "        time_array = np.array(times)\n",
    "        energy_array = np.array(total_system_energy)\n",
    "        plotting_energy = energy_array/energy_array[0]\n",
    "        \n",
    "        if np.abs(plotting_energy[-1] - plotting_energy[-2]) < tolerance:\n",
    "            print(\"Timesteps to reach Stable Energy: {}\".format(it))\n",
    "            print('Time elapsed: {}'.format(timeCurrent))\n",
    "            break\n",
    "        \n",
    "        enstrophy_array = np.array(total_system_enstrophy)\n",
    "        plotting_array_2 = enstrophy_array/enstrophy_array[0]\n",
    "        \n",
    "        pline, pline2 = UpdatePlotEnergy(ax2,pline,pline2,time_array,plotting_energy,plotting_array_2,timeCurrent)"
   ]
  },
  {
   "cell_type": "code",
   "execution_count": null,
   "metadata": {},
   "outputs": [],
   "source": [
    "plt.close('all')"
   ]
  },
  {
   "cell_type": "markdown",
   "metadata": {},
   "source": [
    "### Try adding viscosity"
   ]
  },
  {
   "cell_type": "code",
   "execution_count": null,
   "metadata": {},
   "outputs": [],
   "source": [
    "# define geometry of domain - 3,600km x, 2,800 km y, with 20km resolution\n",
    "xmin,xmax,N = 0.0,3600000.0, 90 #180\n",
    "ymin,ymax,M = 0.0, 2800000.0, 70 #140\n",
    "\n",
    "# discretize x-y directions on a C-grid\n",
    "xe,xc,dx = Discrete1DGrid(xmin,xmax,N)\n",
    "ye,yc,dy = Discrete1DGrid(ymin,ymax,M)\n",
    "xp,yp = np.meshgrid(xc,yc) # p-points\n",
    "xu,yu = np.meshgrid(xe,yc) # u-points\n",
    "xv,yv = np.meshgrid(xc,ye) # v-points\n",
    "xz,yz = np.meshgrid(xe,ye) # z-points (vorticity)\n",
    "dxs = np.array([dx,dy])    # grid size\n",
    "# VisualizeGrid(xu,yu,xv,yv,xp,yp,xz,yz) # visualize grid optional\n",
    "\n",
    "gravity =2.2025*10**(-2)\n",
    "depth = 1000*np.ones([M,N])\n",
    "coriolis = np.zeros_like(xz) # coriolis parameter\n",
    "coriolis+=0.00009 + yz * 1.8*10**-11 #mid-latitude B-plane\n",
    "\n",
    "u,v,p = initialize_vortex(xu,xv,xp,yp,xz,yz,dxs[0],dxs[1],\n",
    "                          gravity,\n",
    "                         coriolis,\n",
    "                         a=100,\n",
    "                         L=200000,\n",
    "                         x_center=1.8 * 10 ** 6,\n",
    "                         y_center= 1.4 * 10 ** 6)\n",
    "\n",
    "u1,v1,p1=initialize_vortex(xu,xv,xp,yp,xz,yz,dxs[0],dxs[1],\n",
    "                          gravity,\n",
    "                         coriolis,\n",
    "                         a=50,\n",
    "                         L=100000,\n",
    "                         x_center=1.4 * 10 ** 6,\n",
    "                         y_center=1.4 * 10 ** 6)\n",
    "\n",
    "u += u1\n",
    "v += v1\n",
    "p += p1"
   ]
  },
  {
   "cell_type": "code",
   "execution_count": null,
   "metadata": {},
   "outputs": [],
   "source": [
    "plevs = np.arange(-200, 200, 10)\n",
    "fig,ax,pcont,arrows = StartPlot(u,v,p,xe,xc,ye,yc,plevs,XarrowStep=4,YarrowStep=4,arrow_scale=2)\n",
    "# plt.show()"
   ]
  },
  {
   "cell_type": "code",
   "execution_count": null,
   "metadata": {},
   "outputs": [],
   "source": [
    "total_system_energy = []\n",
    "total_system_enstrophy = []\n",
    "lapl_integral = []\n",
    "times = [0.0]\n"
   ]
  },
  {
   "cell_type": "code",
   "execution_count": null,
   "metadata": {},
   "outputs": [],
   "source": [
    "alin = 1 # toggles between linear (0), nonlinear (1) PDEs\n",
    "visc = 1\n",
    "tolerance = 10**-5\n",
    "cell_area = dx*dy\n",
    "ntimesteps = 256000\n",
    "isnap = 20       # frequency of visualization\n",
    "finaltime = 256000000\n",
    "dt = finaltime/ntimesteps\n",
    "StabilityCheck(gravity,depth,dt,dx)\n",
    "\n",
    "total_system_energy.append(calculate_energy(u,v,p,depth,gravity))\n",
    "total_system_enstrophy.append(calculate_enstrophy(u,v,p,dxs,depth,coriolis,alin))\n",
    "\n",
    "fig2, ax2, pline,pline2 = StartPlotEnergy() \n",
    "# fig2,ax2,lline = StartPlotULaplace(u,dxs)\n",
    "\n",
    "for it in tqdm(range(ntimesteps)):\n",
    "    timeCurrent = it*dt\n",
    "    RK3(u,v,p,depth, coriolis, gravity, dxs, dt, timeCurrent, visc, alin)\n",
    "\n",
    "\n",
    "    \n",
    "#         vort_grid[1:-1,1:-1] = x_vort - y_vort\n",
    "#         pcont = UpdatePlotVort(vort_grid,xe,ye,ax,pcont,plevs,timeCurrent) # update numerical plot\n",
    "        \n",
    "    #p plot\n",
    "    if (it+1)%isnap==0:\n",
    "        pcont = UpdatePlot(u,v,p,xe,xc,ye,yc,ax,pcont,plevs,timeCurrent+dt,arrows,XarrowStep=4,YarrowStep=4) # update numerical plot\n",
    "#         lline, TL, LI = UpdatePlotULaplace(ax2,lline,u,dxs)\n",
    "#         lapl_integral.append(LI)\n",
    "\n",
    "        times.append(timeCurrent)\n",
    "        total_system_energy.append(calculate_energy(u,v,p,depth,gravity))\n",
    "        total_system_enstrophy.append(calculate_enstrophy(u,v,p,dxs,depth,coriolis,alin))\n",
    "\n",
    "        \n",
    "        time_array = np.array(times)\n",
    "        energy_array = np.array(total_system_energy)\n",
    "        plotting_energy = energy_array/energy_array[0]\n",
    "        \n",
    "        if np.abs(plotting_energy[-1] - plotting_energy[-2]) < tolerance:\n",
    "            print(\"Timesteps to reach Stable Energy: {}\".format(it))\n",
    "            print('Time elapsed: {}'.format(timeCurrent))\n",
    "            break\n",
    "        \n",
    "        enstrophy_array = np.array(total_system_enstrophy)\n",
    "        plotting_array_2 = enstrophy_array/enstrophy_array[0]\n",
    "        \n",
    "        pline, pline2 = UpdatePlotEnergy(ax2,pline,pline2,time_array,plotting_energy,plotting_array_2,timeCurrent)"
   ]
  },
  {
   "cell_type": "code",
   "execution_count": null,
   "metadata": {},
   "outputs": [],
   "source": []
  },
  {
   "cell_type": "code",
   "execution_count": null,
   "metadata": {},
   "outputs": [],
   "source": []
  },
  {
   "cell_type": "code",
   "execution_count": null,
   "metadata": {},
   "outputs": [],
   "source": []
  },
  {
   "cell_type": "code",
   "execution_count": null,
   "metadata": {},
   "outputs": [],
   "source": []
  },
  {
   "cell_type": "code",
   "execution_count": null,
   "metadata": {},
   "outputs": [],
   "source": []
  },
  {
   "cell_type": "code",
   "execution_count": null,
   "metadata": {},
   "outputs": [],
   "source": []
  }
 ],
 "metadata": {
  "kernelspec": {
   "display_name": "base",
   "language": "python",
   "name": "python3"
  },
  "language_info": {
   "codemirror_mode": {
    "name": "ipython",
    "version": 3
   },
   "file_extension": ".py",
   "mimetype": "text/x-python",
   "name": "python",
   "nbconvert_exporter": "python",
   "pygments_lexer": "ipython3",
   "version": "3.9.13"
  }
 },
 "nbformat": 4,
 "nbformat_minor": 2
}
