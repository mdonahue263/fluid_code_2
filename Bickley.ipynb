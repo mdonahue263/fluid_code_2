{
 "cells": [
  {
   "cell_type": "code",
   "execution_count": 1,
   "metadata": {},
   "outputs": [],
   "source": [
    "#def xop2_2d(g, f, a0, a):\n",
    "from tqdm import tqdm\n",
    "from tools.operators import xop_2d, yop_2d, Discrete1DGrid, RHSswe, RK3, initialize_vortex\n",
    "from tools.plotting import VisualizeGrid, coLocateVelocity, StartPlot, UpdatePlot, StartPlotEnergy, UpdatePlotEnergy\n",
    "from tools.tests import StabilityCheck, calc_diagnostics\n",
    "import numpy as np\n",
    "from matplotlib import pyplot as plt\n",
    "import time"
   ]
  },
  {
   "cell_type": "markdown",
   "metadata": {},
   "source": [
    "### Domain\n",
    "-1 < x < 1, -1 < y < 1\n",
    "Coriolis: f = 10\n",
    "depth: H = 1 <br>\n",
    "gravity: g = 10 <br>\n",
    "tfinal: 1000000\n",
    "\n",
    "visc = 1\n",
    "bottom drag = 0"
   ]
  },
  {
   "cell_type": "markdown",
   "metadata": {},
   "source": [
    "#### First Geometry - 80km resolution"
   ]
  },
  {
   "cell_type": "code",
   "execution_count": 2,
   "metadata": {},
   "outputs": [],
   "source": [
    "#basin, resolution\n",
    "xmin,xmax,N = -1, 1, 100\n",
    "ymin,ymax,M = -1, 1, 100\n",
    "\n",
    "# discretize x-y directions on a C-grid\n",
    "xe,xc,dx = Discrete1DGrid(xmin,xmax,N)\n",
    "ye,yc,dy = Discrete1DGrid(ymin,ymax,M)\n",
    "xp,yp = np.meshgrid(xc,yc) # p-points\n",
    "xu,yu = np.meshgrid(xe,yc) # u-points\n",
    "xv,yv = np.meshgrid(xc,ye) # v-points\n",
    "xz,yz = np.meshgrid(xe,ye) # z-points (vorticity)\n",
    "dxs = np.array([dx,dy])    # grid size\n",
    "# VisualizeGrid(xu,yu,xv,yv,xp,yp,xz,yz) # visualize grid optional\n",
    "f0 = 10 #for flow?\n",
    "f = 10 #for ICs\n",
    "B = 1\n",
    "gravity = 10\n",
    "depth = np.ones([M,N])\n",
    "coriolis = f0 - B*(yz)"
   ]
  },
  {
   "cell_type": "code",
   "execution_count": 3,
   "metadata": {},
   "outputs": [],
   "source": [
    "# %matplotlib"
   ]
  },
  {
   "cell_type": "code",
   "execution_count": 4,
   "metadata": {},
   "outputs": [
    {
     "data": {
      "text/plain": [
       "array([[11.  , 11.  , 11.  , ..., 11.  , 11.  , 11.  ],\n",
       "       [10.98, 10.98, 10.98, ..., 10.98, 10.98, 10.98],\n",
       "       [10.96, 10.96, 10.96, ..., 10.96, 10.96, 10.96],\n",
       "       ...,\n",
       "       [ 9.04,  9.04,  9.04, ...,  9.04,  9.04,  9.04],\n",
       "       [ 9.02,  9.02,  9.02, ...,  9.02,  9.02,  9.02],\n",
       "       [ 9.  ,  9.  ,  9.  , ...,  9.  ,  9.  ,  9.  ]])"
      ]
     },
     "execution_count": 4,
     "metadata": {},
     "output_type": "execute_result"
    }
   ],
   "source": [
    "coriolis"
   ]
  },
  {
   "cell_type": "code",
   "execution_count": 5,
   "metadata": {},
   "outputs": [],
   "source": [
    "# plt.close('all')"
   ]
  },
  {
   "cell_type": "markdown",
   "metadata": {},
   "source": [
    "### initial conditions\n"
   ]
  },
  {
   "cell_type": "code",
   "execution_count": 6,
   "metadata": {},
   "outputs": [],
   "source": [
    "L=0.1\n",
    "a = .1 #?\n",
    "u_trig = (1/np.cosh(yu/L))**2\n",
    "u = ((gravity * a)/(f*L)) * u_trig\n",
    "\n",
    "v = np.zeros_like(xv)\n",
    "\n",
    "p = -a*(np.tanh(yp/L))"
   ]
  },
  {
   "cell_type": "code",
   "execution_count": 7,
   "metadata": {},
   "outputs": [],
   "source": [
    "p[:,37] = 0"
   ]
  },
  {
   "cell_type": "code",
   "execution_count": 8,
   "metadata": {},
   "outputs": [
    {
     "name": "stdout",
     "output_type": "stream",
     "text": [
      "max. Courant number: 0.5270462766947299\n",
      "Stable gravity wave time step:\n"
     ]
    }
   ],
   "source": [
    "periodic = True\n",
    "\n",
    "alin = 1 # toggles between linear (0), nonlinear (1) PDEs\n",
    "visc = 0.001\n",
    "cell_area = dx*dy\n",
    "ntimesteps = 100000*3\n",
    "isnap = 10       # frequency of visualization\n",
    "finaltime = 1000\n",
    "dt = finaltime/ntimesteps\n",
    "StabilityCheck(gravity,depth,dt,dx)"
   ]
  },
  {
   "cell_type": "code",
   "execution_count": 9,
   "metadata": {},
   "outputs": [],
   "source": [
    "#reset indices for diagnostic calculations depending on BCs\n",
    "if periodic:\n",
    "    ind1u,ind2u = 1,len(u[0,])\n",
    "    ind1v,ind2v = 1,len(v[0,])\n",
    "    ind1p,ind2p = 1,len(p[0,])\n",
    "    ind1z,ind2z = 1,len(coriolis[0,])\n",
    "else:\n",
    "    ind1u, ind2u = 0, len(u[0,])\n",
    "    ind1v ,ind2v = 0, len(v[0,])\n",
    "    ind1p ,ind2p = 0, len(p[0,])\n",
    "    ind1z ,ind2z = 0, len(coriolis[0,])"
   ]
  },
  {
   "cell_type": "code",
   "execution_count": 10,
   "metadata": {},
   "outputs": [],
   "source": [
    "initial_energy, initial_enstrophy, initial_mass = calc_diagnostics(u[:,ind1u:ind2u],v[:,ind1v:ind2v],p[:,ind1p:ind2p],dxs,depth[:,ind1p:ind2p],gravity,coriolis[:,ind1z:ind2z],alin)"
   ]
  },
  {
   "cell_type": "markdown",
   "metadata": {},
   "source": [
    "### ADJUST P LEVS FOR PRESSURE CONTOURS\n"
   ]
  },
  {
   "cell_type": "code",
   "execution_count": 11,
   "metadata": {},
   "outputs": [],
   "source": [
    "#set pmin manually since it drops slightly from beginning\n",
    "plevs=np.linspace(-a,a,11)\n",
    "xas,yas=4,4"
   ]
  },
  {
   "cell_type": "code",
   "execution_count": 12,
   "metadata": {},
   "outputs": [
    {
     "name": "stdout",
     "output_type": "stream",
     "text": [
      "Using matplotlib backend: <object object at 0x000001F1960A6530>\n"
     ]
    }
   ],
   "source": [
    "%matplotlib"
   ]
  },
  {
   "cell_type": "code",
   "execution_count": 13,
   "metadata": {},
   "outputs": [],
   "source": [
    "fig,ax,pcont,arrows = StartPlot(u,v,p,xe,xc,ye,yc,plevs,XarrowStep=xas,YarrowStep=yas,arrow_scale=4 ,colormap='seismic')\n",
    "plt.show()"
   ]
  },
  {
   "cell_type": "code",
   "execution_count": 14,
   "metadata": {},
   "outputs": [],
   "source": [
    "total_system_energy = [initial_energy]\n",
    "total_system_enstrophy = [initial_enstrophy]\n",
    "total_system_mass = [initial_mass]\n",
    "times = [0.0]"
   ]
  },
  {
   "cell_type": "code",
   "execution_count": 15,
   "metadata": {
    "scrolled": true
   },
   "outputs": [
    {
     "name": "stderr",
     "output_type": "stream",
     "text": [
      "  0%|          | 0/300000 [00:00<?, ?it/s]"
     ]
    },
    {
     "name": "stderr",
     "output_type": "stream",
     "text": [
      " 10%|▉         | 29789/300000 [03:23<30:41, 146.72it/s] \n"
     ]
    },
    {
     "ename": "KeyboardInterrupt",
     "evalue": "",
     "output_type": "error",
     "traceback": [
      "\u001b[1;31m---------------------------------------------------------------------------\u001b[0m",
      "\u001b[1;31mKeyboardInterrupt\u001b[0m                         Traceback (most recent call last)",
      "\u001b[1;32m~\\AppData\\Local\\Temp\\ipykernel_19512\\2597666344.py\u001b[0m in \u001b[0;36m<module>\u001b[1;34m\u001b[0m\n\u001b[0;32m      9\u001b[0m     \u001b[1;32mif\u001b[0m \u001b[1;33m(\u001b[0m\u001b[0mit\u001b[0m\u001b[1;33m+\u001b[0m\u001b[1;36m1\u001b[0m\u001b[1;33m)\u001b[0m\u001b[1;33m%\u001b[0m\u001b[0misnap\u001b[0m\u001b[1;33m==\u001b[0m\u001b[1;36m0\u001b[0m\u001b[1;33m:\u001b[0m\u001b[1;33m\u001b[0m\u001b[1;33m\u001b[0m\u001b[0m\n\u001b[0;32m     10\u001b[0m \u001b[1;31m#         time.sleep(0.01)\u001b[0m\u001b[1;33m\u001b[0m\u001b[1;33m\u001b[0m\u001b[0m\n\u001b[1;32m---> 11\u001b[1;33m         \u001b[0mpcont\u001b[0m \u001b[1;33m=\u001b[0m \u001b[0mUpdatePlot\u001b[0m\u001b[1;33m(\u001b[0m\u001b[0mu\u001b[0m\u001b[1;33m,\u001b[0m\u001b[0mv\u001b[0m\u001b[1;33m,\u001b[0m\u001b[0mp\u001b[0m\u001b[1;33m,\u001b[0m\u001b[0mxe\u001b[0m\u001b[1;33m,\u001b[0m\u001b[0mxc\u001b[0m\u001b[1;33m,\u001b[0m\u001b[0mye\u001b[0m\u001b[1;33m,\u001b[0m\u001b[0myc\u001b[0m\u001b[1;33m,\u001b[0m\u001b[0max\u001b[0m\u001b[1;33m,\u001b[0m\u001b[0mpcont\u001b[0m\u001b[1;33m,\u001b[0m\u001b[0mplevs\u001b[0m\u001b[1;33m,\u001b[0m\u001b[0mtimeCurrent\u001b[0m\u001b[1;33m+\u001b[0m\u001b[0mdt\u001b[0m\u001b[1;33m,\u001b[0m\u001b[0marrows\u001b[0m\u001b[1;33m,\u001b[0m\u001b[0mXarrowStep\u001b[0m\u001b[1;33m=\u001b[0m\u001b[0mxas\u001b[0m\u001b[1;33m,\u001b[0m\u001b[0mYarrowStep\u001b[0m\u001b[1;33m=\u001b[0m\u001b[0myas\u001b[0m\u001b[1;33m,\u001b[0m\u001b[0mcolormap\u001b[0m\u001b[1;33m=\u001b[0m\u001b[1;34m'seismic'\u001b[0m\u001b[1;33m)\u001b[0m \u001b[1;31m# update numerical plot\u001b[0m\u001b[1;33m\u001b[0m\u001b[1;33m\u001b[0m\u001b[0m\n\u001b[0m\u001b[0;32m     12\u001b[0m \u001b[1;33m\u001b[0m\u001b[0m\n\u001b[0;32m     13\u001b[0m         \u001b[0mtimes\u001b[0m\u001b[1;33m.\u001b[0m\u001b[0mappend\u001b[0m\u001b[1;33m(\u001b[0m\u001b[0mtimeCurrent\u001b[0m\u001b[1;33m)\u001b[0m\u001b[1;33m\u001b[0m\u001b[1;33m\u001b[0m\u001b[0m\n",
      "\u001b[1;32mc:\\Users\\mdona\\OneDrive\\Miami Stuff\\fluid_code_2\\tools\\plotting.py\u001b[0m in \u001b[0;36mUpdatePlot\u001b[1;34m(u, v, p, xe, xc, ye, yc, ax, pcont, plevs, timec, arrows, XarrowStep, YarrowStep, colormap)\u001b[0m\n\u001b[0;32m     84\u001b[0m     arrows.set_UVC(uc[::XarrowStep,::YarrowStep],\n\u001b[0;32m     85\u001b[0m                    vc[::XarrowStep,::YarrowStep])             # updates arrows\n\u001b[1;32m---> 86\u001b[1;33m     \u001b[0mplt\u001b[0m\u001b[1;33m.\u001b[0m\u001b[0mpause\u001b[0m\u001b[1;33m(\u001b[0m\u001b[1;36m1.e-2\u001b[0m\u001b[1;33m)\u001b[0m\u001b[1;33m\u001b[0m\u001b[1;33m\u001b[0m\u001b[0m\n\u001b[0m\u001b[0;32m     87\u001b[0m     \u001b[1;31m# linep.set_ydata(p[0,:])\u001b[0m\u001b[1;33m\u001b[0m\u001b[1;33m\u001b[0m\u001b[0m\n\u001b[0;32m     88\u001b[0m     \u001b[1;31m# lineu.set_ydata(u[0,:])\u001b[0m\u001b[1;33m\u001b[0m\u001b[1;33m\u001b[0m\u001b[0m\n",
      "\u001b[1;32mc:\\Users\\mdona\\anaconda3\\lib\\site-packages\\matplotlib\\pyplot.py\u001b[0m in \u001b[0;36mpause\u001b[1;34m(interval)\u001b[0m\n\u001b[0;32m    756\u001b[0m         \u001b[0mcanvas\u001b[0m\u001b[1;33m.\u001b[0m\u001b[0mstart_event_loop\u001b[0m\u001b[1;33m(\u001b[0m\u001b[0minterval\u001b[0m\u001b[1;33m)\u001b[0m\u001b[1;33m\u001b[0m\u001b[1;33m\u001b[0m\u001b[0m\n\u001b[0;32m    757\u001b[0m     \u001b[1;32melse\u001b[0m\u001b[1;33m:\u001b[0m\u001b[1;33m\u001b[0m\u001b[1;33m\u001b[0m\u001b[0m\n\u001b[1;32m--> 758\u001b[1;33m         \u001b[0mtime\u001b[0m\u001b[1;33m.\u001b[0m\u001b[0msleep\u001b[0m\u001b[1;33m(\u001b[0m\u001b[0minterval\u001b[0m\u001b[1;33m)\u001b[0m\u001b[1;33m\u001b[0m\u001b[1;33m\u001b[0m\u001b[0m\n\u001b[0m\u001b[0;32m    759\u001b[0m \u001b[1;33m\u001b[0m\u001b[0m\n\u001b[0;32m    760\u001b[0m \u001b[1;33m\u001b[0m\u001b[0m\n",
      "\u001b[1;31mKeyboardInterrupt\u001b[0m: "
     ]
    }
   ],
   "source": [
    "for it in tqdm(range(ntimesteps)):\n",
    "    timeCurrent = it*dt\n",
    "    RK3(u,v,p,depth, coriolis, gravity,\n",
    "        dxs, dt, timeCurrent, visc,\n",
    "        bdc=0, tau_x = 0, tau_y=0,\n",
    "        alin=alin,\n",
    "        periodic=periodic)\n",
    "    \n",
    "    if (it+1)%isnap==0:\n",
    "#         time.sleep(0.01)\n",
    "        pcont = UpdatePlot(u,v,p,xe,xc,ye,yc,ax,pcont,plevs,timeCurrent+dt,arrows,XarrowStep=xas,YarrowStep=yas,colormap='seismic') # update numerical plot\n",
    "\n",
    "        times.append(timeCurrent)\n",
    "        eg, es, ms = calc_diagnostics(u[:,ind1u:ind2u],v[:,ind1v:ind2v],p[:,ind1p:ind2p],dxs,depth[:,ind1p:ind2p],gravity,coriolis[:,ind1z:ind2z],alin)\n",
    "        total_system_energy.append(eg)\n",
    "        total_system_enstrophy.append(es)\n",
    "        total_system_mass.append(ms)"
   ]
  },
  {
   "cell_type": "code",
   "execution_count": 16,
   "metadata": {},
   "outputs": [],
   "source": [
    "plt.close('all')"
   ]
  },
  {
   "cell_type": "code",
   "execution_count": 17,
   "metadata": {},
   "outputs": [],
   "source": [
    "%matplotlib inline"
   ]
  },
  {
   "cell_type": "code",
   "execution_count": 18,
   "metadata": {},
   "outputs": [],
   "source": [
    "mass_plot = (np.array(total_system_mass)+1)/(initial_mass+1)\n",
    "energy_plot = (np.array(total_system_energy)+1)/(initial_energy+1)\n",
    "enstrophy_plot = (np.array(total_system_enstrophy) + 1)/(initial_enstrophy+1)"
   ]
  },
  {
   "cell_type": "code",
   "execution_count": 19,
   "metadata": {},
   "outputs": [
    {
     "data": {
      "image/png": "[encoded data removed]",
      "text/plain": [
       "<Figure size 640x480 with 1 Axes>"
      ]
     },
     "metadata": {},
     "output_type": "display_data"
    }
   ],
   "source": [
    "plt.plot(times,mass_plot, label='Mass')\n",
    "# plt.plot(times,energy_plot, label='Energy')\n",
    "plt.plot(times,enstrophy_plot, label='Enstrophy')\n",
    "plt.legend()\n",
    "plt.show()"
   ]
  },
  {
   "cell_type": "code",
   "execution_count": 20,
   "metadata": {},
   "outputs": [
    {
     "data": {
      "text/plain": [
       "array([1., 1., 1., ..., 1., 1., 1.])"
      ]
     },
     "execution_count": 20,
     "metadata": {},
     "output_type": "execute_result"
    }
   ],
   "source": [
    "mass_plot"
   ]
  }
 ],
 "metadata": {
  "kernelspec": {
   "display_name": "base",
   "language": "python",
   "name": "python3"
  },
  "language_info": {
   "codemirror_mode": {
    "name": "ipython",
    "version": 3
   },
   "file_extension": ".py",
   "mimetype": "text/x-python",
   "name": "python",
   "nbconvert_exporter": "python",
   "pygments_lexer": "ipython3",
   "version": "3.9.13"
  }
 },
 "nbformat": 4,
 "nbformat_minor": 2
}
