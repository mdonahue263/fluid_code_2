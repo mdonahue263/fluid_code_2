{
 "cells": [
  {
   "cell_type": "code",
   "execution_count": 1,
   "metadata": {},
   "outputs": [],
   "source": [
    "#i want to test energy falloff rates for various resolutions and viscosities\n"
   ]
  },
  {
   "cell_type": "code",
   "execution_count": 2,
   "metadata": {},
   "outputs": [],
   "source": [
    "#conservation or lack thereof were hard to demonstrate here..."
   ]
  },
  {
   "cell_type": "code",
   "execution_count": 3,
   "metadata": {},
   "outputs": [],
   "source": [
    "#def xop2_2d(g, f, a0, a):\n",
    "from tqdm import tqdm\n",
    "from tools.operators import xop_2d, yop_2d, Discrete1DGrid, RHSswe, RK3\n",
    "from tools.plotting import VisualizeGrid, coLocateVelocity, StartPlot, UpdatePlot\n",
    "from tools.plotting import StartPlotEnergy, UpdatePlotEnergy\n",
    "from tools.tests import StabilityCheck, calc_diagnostics\n",
    "import numpy as np\n",
    "from matplotlib import pyplot as plt\n",
    "import time"
   ]
  },
  {
   "cell_type": "markdown",
   "metadata": {},
   "source": [
    "### Soliton Domain\n",
    "-24 <= x <= 24, -8 <= y <= 8 <br>\n",
    "Coriolis: f = y <br>\n",
    "depth: H = 1 <br>\n",
    "gravity: g = 1 <br>\n",
    "tfinal: 40\n",
    "\n",
    "Stable timestep for coarsest resolution is dt = 0.02 (explain)\n",
    "\n",
    "Use symmetry to update vorticity variables?"
   ]
  },
  {
   "cell_type": "markdown",
   "metadata": {},
   "source": [
    "#### First Geometry - 80km resolution"
   ]
  },
  {
   "cell_type": "code",
   "execution_count": 4,
   "metadata": {},
   "outputs": [],
   "source": [
    "xmin,xmax,N = -24, 24, 96\n",
    "ymin,ymax,M = -8, 8, 32\n",
    "\n",
    "# discretize x-y directions on a C-grid\n",
    "xe,xc,dx = Discrete1DGrid(xmin,xmax,N)\n",
    "ye,yc,dy = Discrete1DGrid(ymin,ymax,M)\n",
    "xp,yp = np.meshgrid(xc,yc) # p-points\n",
    "xu,yu = np.meshgrid(xe,yc) # u-points\n",
    "xv,yv = np.meshgrid(xc,ye) # v-points\n",
    "xz,yz = np.meshgrid(xe,ye) # z-points (vorticity)\n",
    "dxs = np.array([dx,dy])    # grid size\n",
    "# VisualizeGrid(xu,yu,xv,yv,xp,yp,xz,yz) # visualize grid optional\n",
    "\n",
    "gravity = 1\n",
    "depth = np.ones([M,N])\n",
    "coriolis = yz.copy()"
   ]
  },
  {
   "cell_type": "code",
   "execution_count": 5,
   "metadata": {},
   "outputs": [],
   "source": [
    "def initialize_soliton(xu,yu,xv,yv,xp,yp,xz,yz,dxs,B=0.395):\n",
    "    phiu = 0.771 * B**2 * ( 1/np.cosh(B*xu)**2) \n",
    "    phiv = 0.771 * B**2 * ( 1/np.cosh(B*xv)**2) \n",
    "    phip = 0.771 * B**2 * ( 1/np.cosh(B*xp)**2)\n",
    "    \n",
    "    \n",
    "#     dphi_dxu = -2 * phiu * B * np.tanh(B*xu) #dont need maybe\n",
    "    dphi_dxv = -2 * phiv * B * np.tanh(B*xv)\n",
    "    \n",
    "    \n",
    "    u = (6*yu**2 - 9)/4 * phiu * np.exp(-(yu**2/2))\n",
    "    v = 2*yv*(dphi_dxv)*np.exp(-(yv**2/2))\n",
    "    p = (6*yp**2 + 3)/4 * phip * np.exp(-(yp**2/2))\n",
    "    \n",
    "    return u,v,p\n",
    "    "
   ]
  },
  {
   "cell_type": "code",
   "execution_count": 6,
   "metadata": {},
   "outputs": [
    {
     "name": "stdout",
     "output_type": "stream",
     "text": [
      "Using matplotlib backend: <object object at 0x00000130E232A540>\n"
     ]
    }
   ],
   "source": [
    "%matplotlib"
   ]
  },
  {
   "cell_type": "code",
   "execution_count": 7,
   "metadata": {},
   "outputs": [],
   "source": [
    "plt.close('all')"
   ]
  },
  {
   "cell_type": "markdown",
   "metadata": {},
   "source": [
    "### initial conditions\n"
   ]
  },
  {
   "cell_type": "code",
   "execution_count": 8,
   "metadata": {},
   "outputs": [],
   "source": [
    "u,v,p = initialize_soliton(xu,yu,xv,yv,xp,yp,xz,yz,dxs,B=0.395)\n",
    "#wrap edges?\n",
    "u[:, 0] =  u[:, -2]  # Wrap west to east\n",
    "u[:, -1] = u[:, 1]  # Wrap east to west\n",
    "\n",
    "v[:, 0] =  v[:, -2]  # Wrap west to east\n",
    "v[:, -1] = v[:, 1]  # Wrap east to west\n",
    "\n",
    "p[:, 0] =  p[:, -2]  # Wrap west to east\n",
    "p[:, -1] = p[:, 1]  # Wrap east to west"
   ]
  },
  {
   "cell_type": "code",
   "execution_count": 9,
   "metadata": {},
   "outputs": [
    {
     "name": "stdout",
     "output_type": "stream",
     "text": [
      "max. Courant number: 0.2\n",
      "Stable gravity wave time step:\n"
     ]
    }
   ],
   "source": [
    "periodic = False\n",
    "\n",
    "alin = 1 # toggles between linear (0), nonlinear (1) PDEs\n",
    "visc = .00\n",
    "# tolerance = 10**-5\n",
    "cell_area = dx*dy\n",
    "ntimesteps = 3000\n",
    "isnap = 10       # frequency of visualization\n",
    "finaltime = 300\n",
    "dt = finaltime/ntimesteps\n",
    "StabilityCheck(gravity,depth,dt,dx)"
   ]
  },
  {
   "cell_type": "code",
   "execution_count": 10,
   "metadata": {},
   "outputs": [],
   "source": [
    "#reset indices for diagnostic calculations depending on BCs\n",
    "if periodic:\n",
    "    ind1u,ind2u = 1,-1\n",
    "    ind1v,ind2v = 1,-1\n",
    "    ind1p,ind2p = 1,-1\n",
    "    ind1z,ind2z = 1,-1\n",
    "else:\n",
    "    ind1u, ind2u = 0, len(u[0,])\n",
    "    ind1v ,ind2v = 0, len(v[0,])\n",
    "    ind1p ,ind2p = 0, len(p[0,])\n",
    "    ind1z ,ind2z = 0, len(coriolis[0,])"
   ]
  },
  {
   "cell_type": "code",
   "execution_count": 11,
   "metadata": {},
   "outputs": [],
   "source": [
    "initial_energy, initial_enstrophy, initial_mass = calc_diagnostics(u[:,ind1u:ind2u],v[:,ind1v:ind2v],p[:,ind1p:ind2p],dxs,depth[:,ind1p:ind2p],gravity,coriolis[:,ind1z:ind2z],alin)"
   ]
  },
  {
   "cell_type": "markdown",
   "metadata": {},
   "source": [
    "### ADJUST P LEVS FOR PRESSURE CONTOURS\n"
   ]
  },
  {
   "cell_type": "code",
   "execution_count": 12,
   "metadata": {},
   "outputs": [],
   "source": [
    "#set pmin manually since it drops slightly from beginning\n",
    "plevs=np.linspace(-0.25,p.max(),40)\n",
    "xas,yas=4,4"
   ]
  },
  {
   "cell_type": "code",
   "execution_count": 13,
   "metadata": {},
   "outputs": [],
   "source": [
    "fig,ax,pcont,arrows = StartPlot(u,v,p,xe,xc,ye,yc,plevs,XarrowStep=xas,YarrowStep=yas,arrow_scale=4 ,colormap='viridis')\n",
    "plt.show()"
   ]
  },
  {
   "cell_type": "code",
   "execution_count": 14,
   "metadata": {},
   "outputs": [],
   "source": [
    "total_system_energy = [initial_energy]\n",
    "total_system_enstrophy = [initial_enstrophy]\n",
    "total_system_mass = [initial_mass]\n",
    "times = [0.0]\n"
   ]
  },
  {
   "cell_type": "code",
   "execution_count": 15,
   "metadata": {
    "scrolled": true
   },
   "outputs": [
    {
     "name": "stderr",
     "output_type": "stream",
     "text": [
      "100%|██████████| 3000/3000 [00:20<00:00, 148.87it/s]\n"
     ]
    }
   ],
   "source": [
    "for it in tqdm(range(ntimesteps)):\n",
    "    timeCurrent = it*dt\n",
    "    RK3(u,v,p,depth, coriolis, gravity, dxs, dt, timeCurrent, visc,bdc=0,tau_x=0,tau_y=0, alin=1,periodic=periodic)\n",
    "    if (it+1)%isnap==0:\n",
    "        time.sleep(0.01)\n",
    "        pcont = UpdatePlot(u,v,p,xe,xc,ye,yc,ax,pcont,plevs,timeCurrent+dt,arrows,XarrowStep=xas,YarrowStep=yas,colormap='viridis') # update numerical plot\n",
    "        times.append(timeCurrent)\n",
    "        eg, es, ms = calc_diagnostics(u[:,ind1u:ind2u],v[:,ind1v:ind2v],p[:,ind1p:ind2p],dxs,depth[:,ind1p:ind2p],gravity,coriolis[:,ind1z:ind2z],alin)\n",
    "        total_system_energy.append(eg)\n",
    "        total_system_enstrophy.append(es)\n",
    "        total_system_mass.append(ms)"
   ]
  },
  {
   "cell_type": "code",
   "execution_count": 16,
   "metadata": {},
   "outputs": [],
   "source": [
    "plt.close('all')"
   ]
  },
  {
   "cell_type": "code",
   "execution_count": 17,
   "metadata": {},
   "outputs": [],
   "source": [
    "%matplotlib inline"
   ]
  },
  {
   "cell_type": "code",
   "execution_count": 18,
   "metadata": {},
   "outputs": [],
   "source": [
    "mass_plot = np.array(total_system_mass)/initial_mass\n",
    "energy_plot = np.array(total_system_energy)/initial_energy\n",
    "enstrophy_plot = (np.array(total_system_enstrophy) + 1.)/(initial_enstrophy+1.)"
   ]
  },
  {
   "cell_type": "code",
   "execution_count": 19,
   "metadata": {},
   "outputs": [
    {
     "data": {
      "image/png": "[encoded data removed]",
      "text/plain": [
       "<Figure size 640x480 with 1 Axes>"
      ]
     },
     "metadata": {},
     "output_type": "display_data"
    }
   ],
   "source": [
    "# plt.plot(times,mass_plot, label='Mass')\n",
    "# plt.plot(times,energy_plot, label='Energy')\n",
    "plt.plot(times,enstrophy_plot, label='Enstrophy')\n",
    "plt.legend()\n",
    "plt.show()"
   ]
  },
  {
   "cell_type": "code",
   "execution_count": 20,
   "metadata": {},
   "outputs": [
    {
     "data": {
      "text/plain": [
       "[<matplotlib.lines.Line2D at 0x130e89ccca0>]"
      ]
     },
     "execution_count": 20,
     "metadata": {},
     "output_type": "execute_result"
    },
    {
     "data": {
      "image/png": "[encoded data removed]",
      "text/plain": [
       "<Figure size 640x480 with 1 Axes>"
      ]
     },
     "metadata": {},
     "output_type": "display_data"
    }
   ],
   "source": [
    "plt.plot(total_system_mass)"
   ]
  },
  {
   "cell_type": "code",
   "execution_count": null,
   "metadata": {},
   "outputs": [],
   "source": []
  },
  {
   "cell_type": "code",
   "execution_count": null,
   "metadata": {},
   "outputs": [],
   "source": []
  },
  {
   "cell_type": "code",
   "execution_count": null,
   "metadata": {},
   "outputs": [],
   "source": []
  },
  {
   "cell_type": "code",
   "execution_count": null,
   "metadata": {},
   "outputs": [],
   "source": []
  },
  {
   "cell_type": "code",
   "execution_count": null,
   "metadata": {},
   "outputs": [],
   "source": []
  },
  {
   "cell_type": "code",
   "execution_count": null,
   "metadata": {},
   "outputs": [],
   "source": []
  },
  {
   "cell_type": "code",
   "execution_count": null,
   "metadata": {},
   "outputs": [],
   "source": []
  },
  {
   "cell_type": "code",
   "execution_count": null,
   "metadata": {},
   "outputs": [],
   "source": []
  },
  {
   "cell_type": "markdown",
   "metadata": {},
   "source": [
    "### Does energy \"converge\" faster with higher viscosity???????"
   ]
  },
  {
   "cell_type": "code",
   "execution_count": null,
   "metadata": {},
   "outputs": [],
   "source": [
    "# define geometry of domain - 3,600km x, 2,800 km y, with 20km resolution\n",
    "xmin,xmax,N = 0.0,3600000.0, 45#90 #180\n",
    "ymin,ymax,M = 0.0, 2800000.0,35  #70 #140\n",
    "\n",
    "# discretize x-y directions on a C-grid\n",
    "xe,xc,dx = Discrete1DGrid(xmin,xmax,N)\n",
    "ye,yc,dy = Discrete1DGrid(ymin,ymax,M)\n",
    "xp,yp = np.meshgrid(xc,yc) # p-points\n",
    "xu,yu = np.meshgrid(xe,yc) # u-points\n",
    "xv,yv = np.meshgrid(xc,ye) # v-points\n",
    "xz,yz = np.meshgrid(xe,ye) # z-points (vorticity)\n",
    "dxs = np.array([dx,dy])    # grid size\n",
    "# VisualizeGrid(xu,yu,xv,yv,xp,yp,xz,yz) # visualize grid optional\n",
    "\n",
    "gravity =2.2025*10**(-2)\n",
    "depth = 1000*np.ones([M,N])\n",
    "coriolis = np.zeros_like(xz) # coriolis parameter\n",
    "coriolis+=0.00009 + yz * 1.8*10**-11 #mid-latitude B-plane\n",
    "\n",
    "u,v,p = initialize_vortex(xu,xv,xp,yp,xz,yz,dxs[0],dxs[1],\n",
    "                          gravity,\n",
    "                         coriolis,\n",
    "                         a=100,\n",
    "                         L=200000,\n",
    "                         x_center=1.8 * 10 ** 6,\n",
    "                         y_center= 1.4 * 10 ** 6)\n",
    "\n",
    "u1,v1,p1=initialize_vortex(xu,xv,xp,yp,xz,yz,dxs[0],dxs[1],\n",
    "                          gravity,\n",
    "                         coriolis,\n",
    "                         a=50,\n",
    "                         L=100000,\n",
    "                         x_center=1.4 * 10 ** 6,\n",
    "                         y_center=1.4 * 10 ** 6)\n",
    "\n",
    "u += u1\n",
    "v += v1\n",
    "p += p1"
   ]
  },
  {
   "cell_type": "code",
   "execution_count": null,
   "metadata": {},
   "outputs": [],
   "source": [
    "plevs = np.arange(-200, 200, 10)\n",
    "fig,ax,pcont,arrows = StartPlot(u,v,p,xe,xc,ye,yc,plevs,XarrowStep=4,YarrowStep=4,arrow_scale=2)\n",
    "plt.show()\n",
    "total_system_energy = []\n",
    "total_system_enstrophy = []\n",
    "lapl_integral = []\n",
    "times = [0.0]"
   ]
  },
  {
   "cell_type": "code",
   "execution_count": null,
   "metadata": {},
   "outputs": [],
   "source": [
    "alin = 1 # toggles between linear (0), nonlinear (1) PDEs\n",
    "visc = .99\n",
    "tolerance = 10**-4\n",
    "cell_area = dx*dy\n",
    "ntimesteps = 25600*2\n",
    "isnap = 20       # frequency of visualization\n",
    "finaltime = 256000000\n",
    "dt = finaltime/ntimesteps\n",
    "StabilityCheck(gravity,depth,dt,dx)\n",
    "\n",
    "total_system_energy.append(calculate_energy(u,v,p,depth,gravity))\n",
    "total_system_enstrophy.append(calculate_enstrophy(u,v,p,dxs,depth,coriolis,alin))\n",
    "\n",
    "fig2, ax2, pline,pline2 = StartPlotEnergy() \n",
    "# fig2,ax2,lline = StartPlotULaplace(u,dxs)\n",
    "\n",
    "for it in tqdm(range(ntimesteps)):\n",
    "    timeCurrent = it*dt\n",
    "    RK3(u,v,p,depth, coriolis, gravity, dxs, dt, timeCurrent, visc, alin)\n",
    "\n",
    "\n",
    "    \n",
    "#         vort_grid[1:-1,1:-1] = x_vort - y_vort\n",
    "#         pcont = UpdatePlotVort(vort_grid,xe,ye,ax,pcont,plevs,timeCurrent) # update numerical plot\n",
    "        \n",
    "    #p plot\n",
    "    if (it+1)%isnap==0:\n",
    "        pcont = UpdatePlot(u,v,p,xe,xc,ye,yc,ax,pcont,plevs,timeCurrent+dt,arrows,XarrowStep=4,YarrowStep=4) # update numerical plot\n",
    "#         lline, TL, LI = UpdatePlotULaplace(ax2,lline,u,dxs)\n",
    "#         lapl_integral.append(LI)\n",
    "\n",
    "        times.append(timeCurrent)\n",
    "        total_system_energy.append(calculate_energy(u,v,p,depth,gravity))\n",
    "        total_system_enstrophy.append(calculate_enstrophy(u,v,p,dxs,depth,coriolis,alin))\n",
    "\n",
    "        \n",
    "        time_array = np.array(times)\n",
    "        energy_array = np.array(total_system_energy)\n",
    "        plotting_energy = energy_array/energy_array[0]\n",
    "        \n",
    "        if np.abs(plotting_energy[-1] - plotting_energy[-2]) < tolerance:\n",
    "            print(\"Timesteps to reach Stable Energy: {}\".format(it))\n",
    "            print('Time elapsed: {}'.format(timeCurrent))\n",
    "            break\n",
    "        \n",
    "        enstrophy_array = np.array(total_system_enstrophy)\n",
    "        plotting_array_2 = enstrophy_array/enstrophy_array[0]\n",
    "        \n",
    "        pline, pline2 = UpdatePlotEnergy(ax2,pline,pline2,time_array,plotting_energy,plotting_array_2,timeCurrent)"
   ]
  },
  {
   "cell_type": "code",
   "execution_count": null,
   "metadata": {},
   "outputs": [],
   "source": [
    "#viscosity not seeming to make a difference here..."
   ]
  },
  {
   "cell_type": "code",
   "execution_count": null,
   "metadata": {},
   "outputs": [],
   "source": []
  },
  {
   "cell_type": "code",
   "execution_count": null,
   "metadata": {},
   "outputs": [],
   "source": []
  },
  {
   "cell_type": "code",
   "execution_count": null,
   "metadata": {},
   "outputs": [],
   "source": []
  },
  {
   "cell_type": "code",
   "execution_count": null,
   "metadata": {},
   "outputs": [],
   "source": []
  },
  {
   "cell_type": "code",
   "execution_count": null,
   "metadata": {},
   "outputs": [],
   "source": []
  },
  {
   "cell_type": "code",
   "execution_count": null,
   "metadata": {},
   "outputs": [],
   "source": []
  },
  {
   "cell_type": "markdown",
   "metadata": {},
   "source": [
    "#### Second Geometry - 40km resolution"
   ]
  },
  {
   "cell_type": "code",
   "execution_count": null,
   "metadata": {},
   "outputs": [],
   "source": [
    "# define geometry of domain - 3,600km x, 2,800 km y, with 20km resolution\n",
    "xmin,xmax,N = 0.0,3600000.0, 90 #180\n",
    "ymin,ymax,M = 0.0, 2800000.0, 70 #140\n",
    "\n",
    "# discretize x-y directions on a C-grid\n",
    "xe,xc,dx = Discrete1DGrid(xmin,xmax,N)\n",
    "ye,yc,dy = Discrete1DGrid(ymin,ymax,M)\n",
    "xp,yp = np.meshgrid(xc,yc) # p-points\n",
    "xu,yu = np.meshgrid(xe,yc) # u-points\n",
    "xv,yv = np.meshgrid(xc,ye) # v-points\n",
    "xz,yz = np.meshgrid(xe,ye) # z-points (vorticity)\n",
    "dxs = np.array([dx,dy])    # grid size\n",
    "# VisualizeGrid(xu,yu,xv,yv,xp,yp,xz,yz) # visualize grid optional\n",
    "\n",
    "gravity =2.2025*10**(-2)\n",
    "depth = 1000*np.ones([M,N])\n",
    "coriolis = np.zeros_like(xz) # coriolis parameter\n",
    "coriolis+=0.00009 + yz * 1.8*10**-11 #mid-latitude B-plane"
   ]
  },
  {
   "cell_type": "code",
   "execution_count": null,
   "metadata": {},
   "outputs": [],
   "source": [
    "u,v,p = initialize_vortex(xu,xv,xp,yp,xz,yz,dxs[0],dxs[1],\n",
    "                          gravity,\n",
    "                         coriolis,\n",
    "                         a=100,\n",
    "                         L=200000,\n",
    "                         x_center=1.8 * 10 ** 6,\n",
    "                         y_center= 1.4 * 10 ** 6)\n",
    "\n",
    "u1,v1,p1=initialize_vortex(xu,xv,xp,yp,xz,yz,dxs[0],dxs[1],\n",
    "                          gravity,\n",
    "                         coriolis,\n",
    "                         a=50,\n",
    "                         L=100000,\n",
    "                         x_center=1.4 * 10 ** 6,\n",
    "                         y_center=1.4 * 10 ** 6)\n",
    "\n",
    "u += u1\n",
    "v += v1\n",
    "p += p1"
   ]
  },
  {
   "cell_type": "code",
   "execution_count": null,
   "metadata": {},
   "outputs": [],
   "source": [
    "plevs = np.arange(-200, 200, 10)\n",
    "fig,ax,pcont,arrows = StartPlot(u,v,p,xe,xc,ye,yc,plevs,XarrowStep=4,YarrowStep=4,arrow_scale=2)\n",
    "# plt.show()"
   ]
  },
  {
   "cell_type": "code",
   "execution_count": null,
   "metadata": {},
   "outputs": [],
   "source": [
    "total_system_energy = []\n",
    "total_system_enstrophy = []\n",
    "lapl_integral = []\n",
    "times = [0.0]\n"
   ]
  },
  {
   "cell_type": "code",
   "execution_count": null,
   "metadata": {},
   "outputs": [],
   "source": [
    "alin = 1 # toggles between linear (0), nonlinear (1) PDEs\n",
    "visc = .01\n",
    "tolerance = 10**-5\n",
    "cell_area = dx*dy\n",
    "ntimesteps = 256000\n",
    "isnap = 20       # frequency of visualization\n",
    "finaltime = 256000000\n",
    "dt = finaltime/ntimesteps\n",
    "StabilityCheck(gravity,depth,dt,dx)\n",
    "\n",
    "total_system_energy.append(calculate_energy(u,v,p,depth,gravity))\n",
    "total_system_enstrophy.append(calculate_enstrophy(u,v,p,dxs,depth,coriolis,alin))\n",
    "\n",
    "fig2, ax2, pline,pline2 = StartPlotEnergy() \n",
    "# fig2,ax2,lline = StartPlotULaplace(u,dxs)\n",
    "\n",
    "for it in tqdm(range(ntimesteps)):\n",
    "    timeCurrent = it*dt\n",
    "    RK3(u,v,p,depth, coriolis, gravity, dxs, dt, timeCurrent, visc, alin)\n",
    "\n",
    "\n",
    "    \n",
    "#         vort_grid[1:-1,1:-1] = x_vort - y_vort\n",
    "#         pcont = UpdatePlotVort(vort_grid,xe,ye,ax,pcont,plevs,timeCurrent) # update numerical plot\n",
    "        \n",
    "    #p plot\n",
    "    if (it+1)%isnap==0:\n",
    "        pcont = UpdatePlot(u,v,p,xe,xc,ye,yc,ax,pcont,plevs,timeCurrent+dt,arrows,XarrowStep=4,YarrowStep=4) # update numerical plot\n",
    "#         lline, TL, LI = UpdatePlotULaplace(ax2,lline,u,dxs)\n",
    "#         lapl_integral.append(LI)\n",
    "\n",
    "        times.append(timeCurrent)\n",
    "        total_system_energy.append(calculate_energy(u,v,p,depth,gravity))\n",
    "        total_system_enstrophy.append(calculate_enstrophy(u,v,p,dxs,depth,coriolis,alin))\n",
    "\n",
    "        \n",
    "        time_array = np.array(times)\n",
    "        energy_array = np.array(total_system_energy)\n",
    "        plotting_energy = energy_array/energy_array[0]\n",
    "        \n",
    "        if np.abs(plotting_energy[-1] - plotting_energy[-2]) < tolerance:\n",
    "            print(\"Timesteps to reach Stable Energy: {}\".format(it))\n",
    "            print('Time elapsed: {}'.format(timeCurrent))\n",
    "            break\n",
    "        \n",
    "        enstrophy_array = np.array(total_system_enstrophy)\n",
    "        plotting_array_2 = enstrophy_array/enstrophy_array[0]\n",
    "        \n",
    "        pline, pline2 = UpdatePlotEnergy(ax2,pline,pline2,time_array,plotting_energy,plotting_array_2,timeCurrent)"
   ]
  },
  {
   "cell_type": "code",
   "execution_count": null,
   "metadata": {},
   "outputs": [],
   "source": [
    "plt.close('all')"
   ]
  },
  {
   "cell_type": "markdown",
   "metadata": {},
   "source": [
    "### Try adding viscosity"
   ]
  },
  {
   "cell_type": "code",
   "execution_count": null,
   "metadata": {},
   "outputs": [],
   "source": [
    "# define geometry of domain - 3,600km x, 2,800 km y, with 20km resolution\n",
    "xmin,xmax,N = 0.0,3600000.0, 90 #180\n",
    "ymin,ymax,M = 0.0, 2800000.0, 70 #140\n",
    "\n",
    "# discretize x-y directions on a C-grid\n",
    "xe,xc,dx = Discrete1DGrid(xmin,xmax,N)\n",
    "ye,yc,dy = Discrete1DGrid(ymin,ymax,M)\n",
    "xp,yp = np.meshgrid(xc,yc) # p-points\n",
    "xu,yu = np.meshgrid(xe,yc) # u-points\n",
    "xv,yv = np.meshgrid(xc,ye) # v-points\n",
    "xz,yz = np.meshgrid(xe,ye) # z-points (vorticity)\n",
    "dxs = np.array([dx,dy])    # grid size\n",
    "# VisualizeGrid(xu,yu,xv,yv,xp,yp,xz,yz) # visualize grid optional\n",
    "\n",
    "gravity =2.2025*10**(-2)\n",
    "depth = 1000*np.ones([M,N])\n",
    "coriolis = np.zeros_like(xz) # coriolis parameter\n",
    "coriolis+=0.00009 + yz * 1.8*10**-11 #mid-latitude B-plane\n",
    "\n",
    "u,v,p = initialize_vortex(xu,xv,xp,yp,xz,yz,dxs[0],dxs[1],\n",
    "                          gravity,\n",
    "                         coriolis,\n",
    "                         a=100,\n",
    "                         L=200000,\n",
    "                         x_center=1.8 * 10 ** 6,\n",
    "                         y_center= 1.4 * 10 ** 6)\n",
    "\n",
    "u1,v1,p1=initialize_vortex(xu,xv,xp,yp,xz,yz,dxs[0],dxs[1],\n",
    "                          gravity,\n",
    "                         coriolis,\n",
    "                         a=50,\n",
    "                         L=100000,\n",
    "                         x_center=1.4 * 10 ** 6,\n",
    "                         y_center=1.4 * 10 ** 6)\n",
    "\n",
    "u += u1\n",
    "v += v1\n",
    "p += p1"
   ]
  },
  {
   "cell_type": "code",
   "execution_count": null,
   "metadata": {},
   "outputs": [],
   "source": [
    "plevs = np.arange(-200, 200, 10)\n",
    "fig,ax,pcont,arrows = StartPlot(u,v,p,xe,xc,ye,yc,plevs,XarrowStep=4,YarrowStep=4,arrow_scale=2)\n",
    "# plt.show()"
   ]
  },
  {
   "cell_type": "code",
   "execution_count": null,
   "metadata": {},
   "outputs": [],
   "source": [
    "total_system_energy = []\n",
    "total_system_enstrophy = []\n",
    "lapl_integral = []\n",
    "times = [0.0]\n"
   ]
  },
  {
   "cell_type": "code",
   "execution_count": null,
   "metadata": {},
   "outputs": [],
   "source": [
    "alin = 1 # toggles between linear (0), nonlinear (1) PDEs\n",
    "visc = 1\n",
    "tolerance = 10**-5\n",
    "cell_area = dx*dy\n",
    "ntimesteps = 256000\n",
    "isnap = 20       # frequency of visualization\n",
    "finaltime = 256000000\n",
    "dt = finaltime/ntimesteps\n",
    "StabilityCheck(gravity,depth,dt,dx)\n",
    "\n",
    "total_system_energy.append(calculate_energy(u,v,p,depth,gravity))\n",
    "total_system_enstrophy.append(calculate_enstrophy(u,v,p,dxs,depth,coriolis,alin))\n",
    "\n",
    "fig2, ax2, pline,pline2 = StartPlotEnergy() \n",
    "# fig2,ax2,lline = StartPlotULaplace(u,dxs)\n",
    "\n",
    "for it in tqdm(range(ntimesteps)):\n",
    "    timeCurrent = it*dt\n",
    "    RK3(u,v,p,depth, coriolis, gravity, dxs, dt, timeCurrent, visc, alin)\n",
    "\n",
    "\n",
    "    \n",
    "#         vort_grid[1:-1,1:-1] = x_vort - y_vort\n",
    "#         pcont = UpdatePlotVort(vort_grid,xe,ye,ax,pcont,plevs,timeCurrent) # update numerical plot\n",
    "        \n",
    "    #p plot\n",
    "    if (it+1)%isnap==0:\n",
    "        pcont = UpdatePlot(u,v,p,xe,xc,ye,yc,ax,pcont,plevs,timeCurrent+dt,arrows,XarrowStep=4,YarrowStep=4) # update numerical plot\n",
    "#         lline, TL, LI = UpdatePlotULaplace(ax2,lline,u,dxs)\n",
    "#         lapl_integral.append(LI)\n",
    "\n",
    "        times.append(timeCurrent)\n",
    "        total_system_energy.append(calculate_energy(u,v,p,depth,gravity))\n",
    "        total_system_enstrophy.append(calculate_enstrophy(u,v,p,dxs,depth,coriolis,alin))\n",
    "\n",
    "        \n",
    "        time_array = np.array(times)\n",
    "        energy_array = np.array(total_system_energy)\n",
    "        plotting_energy = energy_array/energy_array[0]\n",
    "        \n",
    "        if np.abs(plotting_energy[-1] - plotting_energy[-2]) < tolerance:\n",
    "            print(\"Timesteps to reach Stable Energy: {}\".format(it))\n",
    "            print('Time elapsed: {}'.format(timeCurrent))\n",
    "            break\n",
    "        \n",
    "        enstrophy_array = np.array(total_system_enstrophy)\n",
    "        plotting_array_2 = enstrophy_array/enstrophy_array[0]\n",
    "        \n",
    "        pline, pline2 = UpdatePlotEnergy(ax2,pline,pline2,time_array,plotting_energy,plotting_array_2,timeCurrent)"
   ]
  },
  {
   "cell_type": "code",
   "execution_count": null,
   "metadata": {},
   "outputs": [],
   "source": []
  },
  {
   "cell_type": "code",
   "execution_count": null,
   "metadata": {},
   "outputs": [],
   "source": []
  },
  {
   "cell_type": "code",
   "execution_count": null,
   "metadata": {},
   "outputs": [],
   "source": []
  },
  {
   "cell_type": "code",
   "execution_count": null,
   "metadata": {},
   "outputs": [],
   "source": []
  },
  {
   "cell_type": "code",
   "execution_count": null,
   "metadata": {},
   "outputs": [],
   "source": []
  },
  {
   "cell_type": "code",
   "execution_count": null,
   "metadata": {},
   "outputs": [],
   "source": []
  }
 ],
 "metadata": {
  "kernelspec": {
   "display_name": "base",
   "language": "python",
   "name": "python3"
  },
  "language_info": {
   "codemirror_mode": {
    "name": "ipython",
    "version": 3
   },
   "file_extension": ".py",
   "mimetype": "text/x-python",
   "name": "python",
   "nbconvert_exporter": "python",
   "pygments_lexer": "ipython3",
   "version": "3.9.13"
  }
 },
 "nbformat": 4,
 "nbformat_minor": 2
}
